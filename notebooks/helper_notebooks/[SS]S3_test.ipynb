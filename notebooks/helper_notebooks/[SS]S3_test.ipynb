{
 "metadata": {
  "language_info": {
   "codemirror_mode": {
    "name": "ipython",
    "version": 3
   },
   "file_extension": ".py",
   "mimetype": "text/x-python",
   "name": "python",
   "nbconvert_exporter": "python",
   "pygments_lexer": "ipython3",
   "version": "3.6.10-final"
  },
  "orig_nbformat": 2,
  "kernelspec": {
   "name": "python_defaultSpec_1598712774494",
   "display_name": "Python 3.6.10 64-bit ('pytorch_latest_p36': conda)"
  }
 },
 "nbformat": 4,
 "nbformat_minor": 2,
 "cells": [
  {
   "cell_type": "code",
   "execution_count": 7,
   "metadata": {},
   "outputs": [],
   "source": [
    "%load_ext autoreload\n",
    "%autoreload 2"
   ]
  },
  {
   "cell_type": "code",
   "execution_count": 2,
   "metadata": {},
   "outputs": [],
   "source": [
    "import os\n",
    "from boto.s3.connection import S3Connection\n",
    "from boto.s3.key import Key\n",
    "from boto import s3\n",
    "import boto3\n",
    "from boto import boto\n",
    "import re\n",
    "import ssl\n",
    "import pandas as pd\n",
    "import numpy as np\n",
    "from configparser import ConfigParser\n",
    "import json\n",
    "import pickle"
   ]
  },
  {
   "cell_type": "code",
   "execution_count": 11,
   "metadata": {},
   "outputs": [],
   "source": [
    "import configparser\n",
    "import os.path\n",
    "from os import path\n",
    "from importlib import reload\n",
    "# import wandb\n",
    "\n",
    "\n",
    "creds_path_ar = [\"../../credentials.ini\",\"credentials.colab.ini\"]\n",
    "\n",
    "for creds_path in creds_path_ar:\n",
    "    if path.exists(creds_path):\n",
    "        config_parser = configparser.ConfigParser()\n",
    "        config_parser.read(creds_path)\n",
    "        AWS_ACCESS_KEY = config_parser['MAIN'][\"AWS_ACCESS_KEY\"]\n",
    "        AWS_ACCESS_SECRET_KEY = config_parser['MAIN'][\"AWS_ACCESS_SECRET_KEY\"]\n",
    "        PATH_ROOT = config_parser['MAIN']['PATH_ROOT']\n",
    "        PATH_DATA = config_parser['MAIN']['PATH_DATA']\n",
    "        break\n",
    "BUCKET='sota-mafat'\n"
   ]
  },
  {
   "cell_type": "code",
   "execution_count": 21,
   "metadata": {
    "tags": []
   },
   "outputs": [
    {
     "output_type": "stream",
     "name": "stdout",
     "text": "/home/ubuntu/sota-mafat-radar-1\n"
    }
   ],
   "source": [
    "cd {PATH_ROOT}"
   ]
  },
  {
   "cell_type": "code",
   "execution_count": 43,
   "metadata": {},
   "outputs": [],
   "source": [
    "def pull_alldata_s3(AWS_ACCESS_KEY=AWS_ACCESS_KEY,AWS_ACCESS_SECRET_KEY=AWS_ACCESS_SECRET_KEY,bucket=BUCKET,PATH_ROOT = PATH_ROOT):\n",
    "    conn = S3Connection(AWS_ACCESS_KEY, AWS_ACCESS_SECRET_KEY)\n",
    "    conn.auth_region_name = 'us-east-1.amazonaws.com'\n",
    "    mybucket = conn.get_bucket(bucket)\n",
    "\n",
    "    for key_name in mybucket.list():\n",
    "        if (\".csv\" in str(key_name)) or (\".pkl\" in str(key_name)):\n",
    "            key = mybucket.get_key(key_name.key)\n",
    "            key.get_contents_to_filename(PATH_ROOT + '/data/' + key_name.name)"
   ]
  },
  {
   "cell_type": "code",
   "execution_count": 44,
   "metadata": {
    "tags": []
   },
   "outputs": [
    {
     "output_type": "stream",
     "name": "stdout",
     "text": "MAFAT RADAR Challenge - Auxiliary Background(empty) Set V1.csv\n<Key: sota-mafat,MAFAT RADAR Challenge - Auxiliary Background(empty) Set V1.csv>\nMAFAT RADAR Challenge - Auxiliary Background(empty) Set V1.pkl\n<Key: sota-mafat,MAFAT RADAR Challenge - Auxiliary Background(empty) Set V1.pkl>\nMAFAT RADAR Challenge - Auxiliary Experiment Set V2.csv\n<Key: sota-mafat,MAFAT RADAR Challenge - Auxiliary Experiment Set V2.csv>\nMAFAT RADAR Challenge - Auxiliary Experiment Set V2.pkl\n<Key: sota-mafat,MAFAT RADAR Challenge - Auxiliary Experiment Set V2.pkl>\nMAFAT RADAR Challenge - Auxiliary Synthetic Set V2.csv\n<Key: sota-mafat,MAFAT RADAR Challenge - Auxiliary Synthetic Set V2.csv>\nMAFAT RADAR Challenge - Public Test Set V1.csv\n<Key: sota-mafat,MAFAT RADAR Challenge - Public Test Set V1.csv>\nMAFAT RADAR Challenge - Public Test Set V1.pkl\n<Key: sota-mafat,MAFAT RADAR Challenge - Public Test Set V1.pkl>\nMAFAT RADAR Challenge - Training Set V1.csv\n<Key: sota-mafat,MAFAT RADAR Challenge - Training Set V1.csv>\nMAFAT RADAR Challenge - Training Set V1.pkl\n<Key: sota-mafat,MAFAT RADAR Challenge - Training Set V1.pkl>\n"
    }
   ],
   "source": [
    "pull_alldata_s3()"
   ]
  }
 ]
}