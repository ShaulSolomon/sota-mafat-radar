{
  "nbformat": 4,
  "nbformat_minor": 0,
  "metadata": {
    "language_info": {
      "codemirror_mode": {
        "name": "ipython",
        "version": 3
      },
      "file_extension": ".py",
      "mimetype": "text/x-python",
      "name": "python",
      "nbconvert_exporter": "python",
      "pygments_lexer": "ipython3",
      "version": "3.6.9-final"
    },
    "orig_nbformat": 2,
    "kernelspec": {
      "name": "python36964bitvenvmafatvenva5f6ee7916d44380b4a924d34cc79db1",
      "display_name": "Python 3.6.9 64-bit ('venv_mafat': venv)"
    },
    "colab": {
      "name": "[SS]Baseline_CNN_Model_pytorch.ipynb",
      "provenance": [],
      "collapsed_sections": [],
      "toc_visible": true
    },
    "accelerator": "GPU"
  },
  "cells": [
    {
      "cell_type": "code",
      "metadata": {
        "tags": [],
        "id": "asxyQmf6v_kR",
        "colab_type": "code",
        "colab": {
          "base_uri": "https://localhost:8080/",
          "height": 50
        },
        "outputId": "adefce51-23b0-4a15-d5b5-51ca9b5ab835"
      },
      "source": [
        "%load_ext autoreload\n",
        "%autoreload 2"
      ],
      "execution_count": null,
      "outputs": []
    },
    {
      "cell_type": "code",
      "metadata": {
        "id": "MgWHU1hPwQBD",
        "colab_type": "code",
        "colab": {}
      },
      "source": [
        "import configparser\n",
        "import os.path\n",
        "from os import path\n",
        "from importlib import reload\n",
        "\n",
        "WANDB_enable = False\n",
        "creds_path_ar = [\"../../credentials.ini\",\"credentials.colab.ini\"]\n",
        "root_path = \"\"\n",
        "data_path = \"\"\n",
        "\n",
        "for creds_path in creds_path_ar:\n",
        "  if path.exists(creds_path):\n",
        "      config_parser = configparser.ConfigParser()\n",
        "      config_parser.read(creds_path)\n",
        "      root_path = config_parser['MAIN'][\"PATH_ROOT\"]\n",
        "      data_path = config_parser['MAIN'][\"PATH_DATA\"]\n",
        "      WANDB_enable = config_parser['MAIN'][\"WANDB_ENABLE\"] == 'TRUE'\n",
        "      ENV = config_parser['MAIN'][\"ENV\"]\n",
        "      break\n",
        "\n",
        "if ENV==\"COLAB\":\n",
        "  from google.colab import drive\n",
        "  mount_path = '/content/gdrive/'\n",
        "  drive.mount(mount_path)"
      ],
      "execution_count": null,
      "outputs": []
    },
    {
      "cell_type": "code",
      "metadata": {
        "id": "670_FFqYwZOy",
        "colab_type": "code",
        "colab": {
          "base_uri": "https://localhost:8080/",
          "height": 34
        },
        "outputId": "53f6d7c7-7047-4614-f23e-c2f697bd25a0",
        "tags": []
      },
      "source": [
        "cd {root_path}"
      ],
      "execution_count": null,
      "outputs": []
    },
    {
      "cell_type": "code",
      "metadata": {
        "tags": [],
        "id": "zqKtI87lv_kb",
        "colab_type": "code",
        "colab": {}
      },
      "source": [
        "import os\n",
        "import random\n",
        "import pickle\n",
        "import pandas as pd\n",
        "import matplotlib.pyplot as plt\n",
        "import numpy as np\n",
        "\n",
        "import torch\n",
        "import torch.nn as nn\n",
        "import torch.nn.functional as F\n",
        "from torch.utils.data import Dataset, DataLoader\n",
        "import torch.optim as optim\n",
        "\n",
        "\n",
        "from sklearn.metrics import roc_auc_score, roc_curve, auc, accuracy_score\n",
        "from matplotlib.colors import LinearSegmentedColormap\n",
        "from termcolor import colored\n",
        "\n",
        "from src.data import get_data, feat_data\n",
        "from src.models import arch_setup, base_base_model, SNR_base_model\n",
        "from src.visualization import metrics\n",
        "\n",
        "\n",
        "# Set seed for reproducibility of results\n",
        "seed_value = 0\n",
        "os.environ['PYTHONHASHSEED']=str(seed_value)\n",
        "\n",
        "\n",
        "random.seed(seed_value)\n",
        "np.random.seed(seed_value)\n",
        "torch.manual_seed(0)\n",
        "\n",
        "torch.backends.cudnn.deterministic = True\n",
        "torch.backends.cudnn.benchmark = False\n",
        "\n",
        "if torch.has_cuda:\n",
        "    device = torch.device('cuda:0')\n",
        "else:\n",
        "    device = torch.device('cpu:0')"
      ],
      "execution_count": null,
      "outputs": []
    },
    {
      "cell_type": "code",
      "metadata": {
        "tags": [],
        "id": "NIstiDctv_kk",
        "colab_type": "code",
        "colab": {
          "base_uri": "https://localhost:8080/",
          "height": 34
        },
        "outputId": "03a06f79-5919-4442-941b-2d5e9a43e5e1"
      },
      "source": [
        "train_x,train_snr, train_y, val_x,val_snr, val_y = feat_data.classic_trainvalSNR(data_path)"
      ],
      "execution_count": null,
      "outputs": []
    },
    {
      "cell_type": "code",
      "metadata": {
        "id": "yF7bdUnuNcMx",
        "colab_type": "code",
        "colab": {
          "base_uri": "https://localhost:8080/",
          "height": 50
        },
        "outputId": "66f526cd-f900-4bca-cd98-7d5e52943e1f"
      },
      "source": [
        "torch.cat((torch.tensor(train_x.flatten()),torch.tensor(train_snr)),0)"
      ],
      "execution_count": null,
      "outputs": []
    },
    {
      "cell_type": "markdown",
      "metadata": {
        "id": "QM8U41sVv_ky",
        "colab_type": "text"
      },
      "source": [
        "## Implementation"
      ]
    },
    {
      "cell_type": "code",
      "metadata": {
        "id": "Fxhp0Vrpv_kz",
        "colab_type": "code",
        "colab": {}
      },
      "source": [
        "train_set = arch_setup.DS(train_x,train_snr,train_y)\n",
        "val_set= arch_setup.DS(val_x,val_snr, val_y)\n",
        "\n",
        "train_loader=DataLoader(dataset= train_set, batch_size = 16, shuffle = True, num_workers = 2)\n",
        "val_loader=DataLoader(dataset= val_set, batch_size = 16, shuffle = True, num_workers = 2)"
      ],
      "execution_count": null,
      "outputs": []
    },
    {
      "cell_type": "code",
      "metadata": {
        "id": "7gt4qP9kv_lK",
        "colab_type": "code",
        "colab": {
          "base_uri": "https://localhost:8080/",
          "height": 151
        },
        "outputId": "8807b6ed-39a7-4939-c556-f8c77ff898c4"
      },
      "source": [
        "def init_weights(m):\n",
        "    if (type(m) == nn.Linear) | (type(m) == nn.Conv2d):\n",
        "        torch.nn.init.xavier_normal_(m.weight)\n",
        "        #m.bias.data.fill_(0.01)\n",
        "\n",
        "model= base_base_model.SNR_base_model()\n",
        "model.apply(init_weights)\n",
        "criterion = nn.BCELoss()\n",
        "optimizer = optim.Adam(model.parameters(), lr=0.001)\n",
        "\n",
        "\n",
        "#TODO: implement the Glorot Normal\n",
        "# init = tf.keras.initializers.GlorotNormal(seed = 0)\n",
        "\n",
        "model.to(device)"
      ],
      "execution_count": null,
      "outputs": []
    },
    {
      "cell_type": "code",
      "metadata": {
        "tags": [],
        "id": "5UWLzWL4v_lS",
        "colab_type": "code",
        "colab": {
          "base_uri": "https://localhost:8080/",
          "height": 689
        },
        "outputId": "02aa83e6-138c-40be-9ccc-4860554bf4bb"
      },
      "source": [
        "_ = arch_setup.train_epochs(train_loader,val_loader,model,criterion,optimizer,num_epochs= 10,train_y=train_y,val_y=val_y)"
      ],
      "execution_count": null,
      "outputs": []
    },
    {
      "cell_type": "code",
      "metadata": {
        "id": "cS3qPfeUv_le",
        "colab_type": "code",
        "colab": {
          "base_uri": "https://localhost:8080/",
          "height": 594
        },
        "outputId": "44907f85-4419-4b2e-add5-42ace72b2ad4"
      },
      "source": [
        "pred = [model(torch.from_numpy(train_x).to(device, dtype=torch.float),torch.from_numpy(train_snr).to(device, dtype=torch.float)).detach().cpu().numpy(),\n",
        "        model(torch.from_numpy(val_x).to(device, dtype=torch.float),torch.from_numpy(val_snr).to(device, dtype=torch.float)).detach().cpu().numpy()]\n",
        "actual = [train_y, val_y]\n",
        "metrics.stats(pred, actual)"
      ],
      "execution_count": null,
      "outputs": []
    },
    {
      "cell_type": "code",
      "metadata": {
        "id": "FDD6D4B4QhDY",
        "colab_type": "code",
        "colab": {}
      },
      "source": [
        ""
      ],
      "execution_count": null,
      "outputs": []
    }
  ]
}