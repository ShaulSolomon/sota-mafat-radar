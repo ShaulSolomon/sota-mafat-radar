{
  "nbformat": 4,
  "nbformat_minor": 0,
  "metadata": {
    "colab": {
      "name": "Download_Project_From_Github.ipynb",
      "provenance": [],
      "collapsed_sections": []
    },
    "kernelspec": {
      "name": "python3",
      "display_name": "Python 3"
    }
  },
  "cells": [
    {
      "cell_type": "markdown",
      "metadata": {
        "id": "819O4gkdOmvA",
        "colab_type": "text"
      },
      "source": [
        "Use this notebook to download the repo from github to google colab (gdrive)\n",
        "\n",
        "**This will override any manual changes that you have made in the files!!** \n"
      ]
    },
    {
      "cell_type": "markdown",
      "metadata": {
        "id": "LKKpgLh0PPFs",
        "colab_type": "text"
      },
      "source": [
        "## How to connect to github using ssh\n",
        "\n",
        "[https://medium.com/@ashkanpakzad/data-into-google-colab-5ddeb4f4e8](https://medium.com/@ashkanpakzad/data-into-google-colab-5ddeb4f4e8)\n",
        "\n",
        "\n",
        "---\n",
        "\n",
        "Following commands should be executed only once for setup in order to connect to private github repo:\n",
        "\n",
        "```\n",
        "# to create a private+public keys run the command:\n",
        "!ssh-keygen -t rsa -b 4096 -C “hershkoy@github.com”\n",
        "\n",
        "#this is the private key. copy paste and *SAVE IT* on your local disk for any future use. give it a meaningful name so that you will remember what it is for :)\n",
        "!cat /root/.ssh/id_rsa\n",
        "\n",
        "#this is your public key. copy-paste and upload to github (settings => SSH and GPG keys => New key)\n",
        "!cat /root/.ssh/id_rsa.pub\n",
        "\n",
        "```\n",
        "\n"
      ]
    },
    {
      "cell_type": "code",
      "metadata": {
        "id": "UAxp1RKPObfW",
        "colab_type": "code",
        "colab": {}
      },
      "source": [
        "%%bash\n",
        "if [ -f \"/root/.ssh/id_rsa\" ]; then\n",
        "    echo \"github key exists.\"\n",
        "else\n",
        "    mkdir /root/.ssh/\n",
        "    cp key.pem /root/.ssh/id_rsa\n",
        "    ssh-keyscan github.com >> /root/.ssh/known_hosts\n",
        "    chmod 644 /root/.ssh/known_hosts\n",
        "    chmod 600 /root/.ssh/id_rsa\n",
        "fi"
      ],
      "execution_count": null,
      "outputs": []
    },
    {
      "cell_type": "code",
      "metadata": {
        "id": "YgqbP0H5O5wW",
        "colab_type": "code",
        "colab": {}
      },
      "source": [
        "!rm -rf sota-mafat-radar\n",
        "!ssh -T git@github.com\n",
        "!git clone git@github.com:ShaulSolomon/sota-mafat-radar.git"
      ],
      "execution_count": null,
      "outputs": []
    }
  ]
}