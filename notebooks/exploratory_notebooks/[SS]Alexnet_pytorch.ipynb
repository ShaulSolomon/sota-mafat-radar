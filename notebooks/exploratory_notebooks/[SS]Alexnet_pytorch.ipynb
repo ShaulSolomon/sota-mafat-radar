{
 "metadata": {
  "language_info": {
   "codemirror_mode": {
    "name": "ipython",
    "version": 3
   },
   "file_extension": ".py",
   "mimetype": "text/x-python",
   "name": "python",
   "nbconvert_exporter": "python",
   "pygments_lexer": "ipython3",
   "version": "3.6.9-final"
  },
  "orig_nbformat": 2,
  "kernelspec": {
   "name": "python36964bitvenvmafatvenv300c218a63dc4f9ea0765cbe246bbed9",
   "display_name": "Python 3.6.9 64-bit ('venv_mafat': venv)"
  }
 },
 "nbformat": 4,
 "nbformat_minor": 2,
 "cells": [
  {
   "cell_type": "code",
   "execution_count": 1,
   "metadata": {
    "tags": []
   },
   "outputs": [],
   "source": [
    "%load_ext autoreload\n",
    "%autoreload 2"
   ]
  },
  {
   "cell_type": "code",
   "execution_count": 2,
   "metadata": {},
   "outputs": [],
   "source": [
    "import configparser\n",
    "import os.path\n",
    "from os import path\n",
    "from importlib import reload\n",
    "import wandb\n",
    "\n",
    "\n",
    "creds_path_ar = [\"../../credentials.ini\",\"credentials.colab.ini\"]\n",
    "PATH_ROOT = \"\"\n",
    "PATH_DATA = \"\"\n",
    "\n",
    "for creds_path in creds_path_ar:\n",
    "    if path.exists(creds_path):\n",
    "        config_parser = configparser.ConfigParser()\n",
    "        config_parser.read(creds_path)\n",
    "        PATH_ROOT = config_parser['MAIN'][\"PATH_ROOT\"]\n",
    "        PATH_DATA = config_parser['MAIN'][\"PATH_DATA\"]\n",
    "        WANDB_enable = config_parser['MAIN'][\"WANDB_ENABLE\"] == 'TRUE'\n",
    "        ENV = config_parser['MAIN'][\"ENV\"]\n",
    "        break\n",
    "\n",
    "if ENV==\"COLAB\":\n",
    "  from google.colab import drive\n",
    "  mount_path = '/content/gdrive/'\n",
    "  drive.mount(mount_path)"
   ]
  },
  {
   "cell_type": "code",
   "execution_count": 4,
   "metadata": {
    "tags": []
   },
   "outputs": [],
   "source": [
    "if WANDB_enable == True:\n",
    "    wandb.init(project=\"sota-mafat-base\")\n",
    "    os.environ['WANDB_NOTEBOOK_NAME'] = '[SS]TCN_pytorch'"
   ]
  },
  {
   "cell_type": "code",
   "execution_count": 5,
   "metadata": {
    "tags": []
   },
   "outputs": [
    {
     "output_type": "stream",
     "name": "stdout",
     "text": "/home/shaul/workspace/GitHub/sota-mafat-radar\n"
    }
   ],
   "source": [
    "cd {PATH_ROOT}"
   ]
  },
  {
   "cell_type": "code",
   "execution_count": 67,
   "metadata": {},
   "outputs": [],
   "source": [
    "import os\n",
    "import random\n",
    "import pickle\n",
    "import pandas as pd\n",
    "import matplotlib.pyplot as plt\n",
    "import numpy as np\n",
    "\n",
    "import torch\n",
    "import torch.nn as nn\n",
    "import torch.nn.functional as F\n",
    "from torch.utils.data import Dataset, DataLoader\n",
    "import torch.optim as optim\n",
    "\n",
    "\n",
    "from sklearn.metrics import roc_auc_score, roc_curve, auc, accuracy_score\n",
    "from matplotlib.colors import LinearSegmentedColormap\n",
    "from termcolor import colored\n",
    "\n",
    "from src.data import feat_data, get_data\n",
    "from src.models import arch_setup, base_base_model, alex_model, tcn_model\n",
    "\n",
    "# Set seed for reproducibility of results\n",
    "seed_value = 0\n",
    "os.environ['PYTHONHASHSEED']=str(seed_value)\n",
    "\n",
    "\n",
    "random.seed(seed_value)\n",
    "np.random.seed(seed_value)\n",
    "torch.manual_seed(0)\n",
    "\n",
    "torch.backends.cudnn.deterministic = True\n",
    "torch.backends.cudnn.benchmark = False\n",
    "\n",
    "if torch.cuda.is_available():\n",
    "    device = torch.device('cuda:0')\n",
    "else:\n",
    "    device = torch.device('cpu:0')"
   ]
  },
  {
   "cell_type": "code",
   "execution_count": 119,
   "metadata": {},
   "outputs": [],
   "source": [
    "config = dict()\n",
    "config['num_tracks'] = 3\n",
    "config['val_ratio'] = 6\n",
    "config['shift_segment'] = [4,8,12,16,20]\n",
    "config['get_shifts'] = True\n",
    "config['get_horizontal_flip'] = False\n",
    "config['get_vertical_flip'] = False"
   ]
  },
  {
   "cell_type": "code",
   "execution_count": 120,
   "metadata": {
    "tags": []
   },
   "outputs": [
    {
     "output_type": "stream",
     "name": "stdout",
     "text": "\u001b[32mEverything is setup correctly\u001b[0m\n"
    }
   ],
   "source": [
    "train_x, train_y, val_x, val_y = get_data.classic_trainval(PATH_ROOT+PATH_DATA)"
   ]
  },
  {
   "cell_type": "code",
   "execution_count": 121,
   "metadata": {},
   "outputs": [],
   "source": [
    "train_set = arch_setup.DS(train_x.squeeze(),train_y)\n",
    "val_set= arch_setup.DS(val_x.squeeze(),val_y)\n",
    "\n",
    "train_loader=DataLoader(dataset= train_set, batch_size = 32, shuffle = True, num_workers = 2)\n",
    "val_loader=DataLoader(dataset= val_set, batch_size = 32, shuffle = True, num_workers = 2)"
   ]
  },
  {
   "cell_type": "code",
   "execution_count": 122,
   "metadata": {
    "tags": []
   },
   "outputs": [],
   "source": [
    "model = tcn_model.TCNModel(num_channels=[64]*4, kernel_size=3, dropout=0.25)\n",
    "criterion = nn.BCELoss()\n",
    "optimizer = optim.Adam(model.parameters(), lr=0.001)\n",
    "\n",
    "model.to(device)\n",
    "\n",
    "if WANDB_enable == True:\n",
    "    wandb.watch(model)"
   ]
  },
  {
   "cell_type": "code",
   "execution_count": 123,
   "metadata": {
    "tags": []
   },
   "outputs": [
    {
     "output_type": "stream",
     "name": "stdout",
     "text": "started training epoch no. 1\nepoch : 1.0000, loss : 57.4072, auc : 0.8882, acc : 0.8797, val_loss : 7.5496, val_auc : 0.7566, val_acc : 0.6084, \n---------------------------\n\nstarted training epoch no. 2\nepoch : 2.0000, loss : 45.9995, auc : 0.9335, acc : 0.9038, val_loss : 6.1219, val_auc : 0.7696, val_acc : 0.6926, \n---------------------------\n\nstarted training epoch no. 3\nepoch : 3.0000, loss : 42.6790, auc : 0.9433, acc : 0.9117, val_loss : 7.1849, val_auc : 0.7556, val_acc : 0.6505, \n---------------------------\n\nstarted training epoch no. 4\nepoch : 4.0000, loss : 38.6706, auc : 0.9547, acc : 0.9207, val_loss : 7.7564, val_auc : 0.7666, val_acc : 0.6570, \n---------------------------\n\nstarted training epoch no. 5\nepoch : 5.0000, loss : 35.4645, auc : 0.9626, acc : 0.9306, val_loss : 6.2351, val_auc : 0.7950, val_acc : 0.7152, \n---------------------------\n\nstarted training epoch no. 6\nepoch : 6.0000, loss : 31.7643, auc : 0.9713, acc : 0.9373, val_loss : 6.2097, val_auc : 0.7998, val_acc : 0.7314, \n---------------------------\n\nstarted training epoch no. 7\nepoch : 7.0000, loss : 27.1025, auc : 0.9791, acc : 0.9475, val_loss : 6.4658, val_auc : 0.8163, val_acc : 0.7411, \n---------------------------\n\nstarted training epoch no. 8\nepoch : 8.0000, loss : 24.2236, auc : 0.9835, acc : 0.9555, val_loss : 6.8618, val_auc : 0.7955, val_acc : 0.7152, \n---------------------------\n\nstarted training epoch no. 9\nepoch : 9.0000, loss : 24.0092, auc : 0.9832, acc : 0.9523, val_loss : 10.1567, val_auc : 0.8004, val_acc : 0.6764, \n---------------------------\n\nstarted training epoch no. 10\nepoch : 10.0000, loss : 17.1134, auc : 0.9915, acc : 0.9668, val_loss : 8.8104, val_auc : 0.8060, val_acc : 0.7087, \n---------------------------\n\n"
    }
   ],
   "source": [
    "log = arch_setup.train_epochs(train_loader,val_loader,model,criterion,optimizer,num_epochs= 10,device=device,train_y=train_y,val_y=val_y, WANDB_enable = WANDB_enable, wandb= wandb)"
   ]
  },
  {
   "cell_type": "code",
   "execution_count": null,
   "metadata": {},
   "outputs": [],
   "source": [
    "arch_setup.plot_loss_train_test(log,model)"
   ]
  },
  {
   "cell_type": "code",
   "execution_count": null,
   "metadata": {},
   "outputs": [],
   "source": [
    "arch_setup.plot_ROC(train_x,val_x,train_y,val_y,model,device)"
   ]
  }
 ]
}