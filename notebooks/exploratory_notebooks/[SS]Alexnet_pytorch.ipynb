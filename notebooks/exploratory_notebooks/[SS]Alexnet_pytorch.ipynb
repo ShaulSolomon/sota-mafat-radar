{
 "metadata": {
  "language_info": {
   "codemirror_mode": {
    "name": "ipython",
    "version": 3
   },
   "file_extension": ".py",
   "mimetype": "text/x-python",
   "name": "python",
   "nbconvert_exporter": "python",
   "pygments_lexer": "ipython3",
   "version": "3.7.7-final"
  },
  "orig_nbformat": 2,
  "kernelspec": {
   "name": "python_defaultSpec_1598720461560",
   "display_name": "Python 3.7.7 64-bit ('base': conda)"
  }
 },
 "nbformat": 4,
 "nbformat_minor": 2,
 "cells": [
  {
   "cell_type": "code",
   "execution_count": 1,
   "metadata": {
    "tags": []
   },
   "outputs": [],
   "source": [
    "%load_ext autoreload\n",
    "%autoreload 2"
   ]
  },
  {
   "cell_type": "code",
   "execution_count": 26,
   "metadata": {},
   "outputs": [],
   "source": [
    "import configparser\n",
    "import os.path\n",
    "from os import path\n",
    "from importlib import reload\n",
    "import wandb\n",
    "\n",
    "\n",
    "creds_path_ar = [\"../../credentials.ini\",\"credentials.colab.ini\"]\n",
    "PATH_ROOT = \"\"\n",
    "PATH_DATA = \"\"\n",
    "\n",
    "for creds_path in creds_path_ar:\n",
    "    if path.exists(creds_path):\n",
    "        config_parser = configparser.ConfigParser()\n",
    "        config_parser.read(creds_path)\n",
    "        PATH_ROOT = config_parser['MAIN'][\"PATH_ROOT\"]\n",
    "        PATH_DATA = config_parser['MAIN'][\"PATH_DATA\"]\n",
    "        WANDB_enable = config_parser['MAIN'][\"WANDB_ENABLE\"] == 'TRUE'\n",
    "        ENV = config_parser['MAIN'][\"ENV\"]\n",
    "        break\n",
    "\n",
    "if ENV==\"COLAB\":\n",
    "  from google.colab import drive\n",
    "  mount_path = '/content/gdrive/'\n",
    "  drive.mount(mount_path)"
   ]
  },
  {
   "cell_type": "code",
   "execution_count": 5,
   "metadata": {
    "tags": []
   },
   "outputs": [
    {
     "output_type": "stream",
     "name": "stderr",
     "text": "\u001b[34m\u001b[1mwandb\u001b[0m: \u001b[32m\u001b[41mERROR\u001b[0m Not authenticated.  Copy a key from https://app.wandb.ai/authorize\n\u001b[34m\u001b[1mwandb\u001b[0m: Appending key for api.wandb.ai to your netrc file: /home/ubuntu/.netrc\n"
    },
    {
     "output_type": "display_data",
     "data": {
      "text/plain": "<IPython.core.display.HTML object>",
      "text/html": "\n                Logging results to <a href=\"https://wandb.com\" target=\"_blank\">Weights & Biases</a> <a href=\"https://docs.wandb.com/integrations/jupyter.html\" target=\"_blank\">(Documentation)</a>.<br/>\n                Project page: <a href=\"https://app.wandb.ai/sota-mafat/sota-mafat-base\" target=\"_blank\">https://app.wandb.ai/sota-mafat/sota-mafat-base</a><br/>\n                Run page: <a href=\"https://app.wandb.ai/sota-mafat/sota-mafat-base/runs/17gv5x50\" target=\"_blank\">https://app.wandb.ai/sota-mafat/sota-mafat-base/runs/17gv5x50</a><br/>\n            "
     },
     "metadata": {}
    }
   ],
   "source": [
    "if WANDB_enable == True:\n",
    "    wandb.init(project=\"sota-mafat-base\")\n",
    "    os.environ['WANDB_NOTEBOOK_NAME'] = '[SS]Alexnet_pytorch'"
   ]
  },
  {
   "cell_type": "code",
   "execution_count": 28,
   "metadata": {
    "tags": []
   },
   "outputs": [
    {
     "output_type": "stream",
     "name": "stdout",
     "text": "/home/ubuntu/sota-mafat-radar-1\n"
    }
   ],
   "source": [
    "cd {PATH_ROOT}"
   ]
  },
  {
   "cell_type": "code",
   "execution_count": 9,
   "metadata": {},
   "outputs": [],
   "source": [
    "import os\n",
    "import random\n",
    "import pickle\n",
    "import pandas as pd\n",
    "import matplotlib.pyplot as plt\n",
    "import numpy as np\n",
    "\n",
    "import torch\n",
    "import torch.nn as nn\n",
    "import torch.nn.functional as F\n",
    "from torch.utils.data import Dataset, DataLoader\n",
    "import torch.optim as optim\n",
    "\n",
    "\n",
    "from sklearn.metrics import roc_auc_score, roc_curve, auc, accuracy_score\n",
    "from matplotlib.colors import LinearSegmentedColormap\n",
    "from termcolor import colored\n",
    "\n",
    "from src.data import feat_data, get_data\n",
    "from src.models import arch_setup, base_base_model, alex_model\n",
    "\n",
    "# Set seed for reproducibility of results\n",
    "seed_value = 0\n",
    "os.environ['PYTHONHASHSEED']=str(seed_value)\n",
    "\n",
    "\n",
    "random.seed(seed_value)\n",
    "np.random.seed(seed_value)\n",
    "torch.manual_seed(0)\n",
    "\n",
    "torch.backends.cudnn.deterministic = True\n",
    "torch.backends.cudnn.benchmark = False\n",
    "\n",
    "if torch.cuda.is_available():\n",
    "    device = torch.device('cuda:0')\n",
    "else:\n",
    "    device = torch.device('cpu:0')"
   ]
  },
  {
   "cell_type": "code",
   "execution_count": 30,
   "metadata": {
    "tags": []
   },
   "outputs": [
    {
     "output_type": "stream",
     "name": "stdout",
     "text": "\u001b[32mEverything is setup correctly\u001b[0m\n"
    }
   ],
   "source": [
    "train_x, train_y, val_x, val_y = get_data.classic_trainval(PATH_ROOT+PATH_DATA)"
   ]
  },
  {
   "cell_type": "code",
   "execution_count": 34,
   "metadata": {},
   "outputs": [],
   "source": [
    "train_set = arch_setup.DS(train_x,train_y)\n",
    "val_set= arch_setup.DS(val_x,val_y)\n",
    "\n",
    "train_loader=DataLoader(dataset= train_set, batch_size = 32, shuffle = True, num_workers = 2)\n",
    "val_loader=DataLoader(dataset= val_set, batch_size = 32, shuffle = True, num_workers = 2)"
   ]
  },
  {
   "cell_type": "code",
   "execution_count": 35,
   "metadata": {
    "tags": []
   },
   "outputs": [],
   "source": [
    "model= alex_model.alex_mdf_s_model()\n",
    "# model.apply(init_weights)\n",
    "criterion = nn.BCELoss()\n",
    "optimizer = optim.Adam(model.parameters(), lr=0.001)\n",
    "\n",
    "model.to(device)\n",
    "\n",
    "if WANDB_enable == True:\n",
    "    wandb.watch(model)"
   ]
  },
  {
   "cell_type": "code",
   "execution_count": 36,
   "metadata": {
    "tags": []
   },
   "outputs": [
    {
     "output_type": "stream",
     "name": "stdout",
     "text": "started training epoch no. 1\n\u001b[34m\u001b[1mwandb\u001b[0m: Wandb version 0.9.6 is available!  To upgrade, please run:\n\u001b[34m\u001b[1mwandb\u001b[0m:  $ pip install wandb --upgrade\nepoch : 1.0000, loss : 61.9354, auc : 0.8663, acc : 0.8785, val_loss : 7.1745, val_auc : 0.7563, val_acc : 0.6796, \n---------------------------\n\nstarted training epoch no. 2\nepoch : 2.0000, loss : 47.5642, auc : 0.9313, acc : 0.9019, val_loss : 6.3949, val_auc : 0.7694, val_acc : 0.7023, \n---------------------------\n\nstarted training epoch no. 3\nepoch : 3.0000, loss : 41.4506, auc : 0.9485, acc : 0.9150, val_loss : 5.8854, val_auc : 0.8215, val_acc : 0.7702, \n---------------------------\n\nstarted training epoch no. 4\nepoch : 4.0000, loss : 37.3497, auc : 0.9573, acc : 0.9255, val_loss : 5.1913, val_auc : 0.8678, val_acc : 0.7832, \n---------------------------\n\nstarted training epoch no. 5\nepoch : 5.0000, loss : 34.5545, auc : 0.9638, acc : 0.9309, val_loss : 6.4710, val_auc : 0.8842, val_acc : 0.7573, \n---------------------------\n\nstarted training epoch no. 6\nepoch : 6.0000, loss : 37.1198, auc : 0.9615, acc : 0.9289, val_loss : 5.0063, val_auc : 0.8896, val_acc : 0.8155, \n---------------------------\n\nstarted training epoch no. 7\nepoch : 7.0000, loss : 31.6771, auc : 0.9697, acc : 0.9431, val_loss : 4.3328, val_auc : 0.9147, val_acc : 0.8091, \n---------------------------\n\nstarted training epoch no. 8\nepoch : 8.0000, loss : 24.5817, auc : 0.9809, acc : 0.9536, val_loss : 4.5516, val_auc : 0.9158, val_acc : 0.8058, \n---------------------------\n\nstarted training epoch no. 9\nepoch : 9.0000, loss : 27.2785, auc : 0.9784, acc : 0.9488, val_loss : 4.0885, val_auc : 0.9049, val_acc : 0.8382, \n---------------------------\n\nstarted training epoch no. 10\nepoch : 10.0000, loss : 25.5215, auc : 0.9808, acc : 0.9543, val_loss : 3.9389, val_auc : 0.9229, val_acc : 0.8350, \n---------------------------\n\nstarted training epoch no. 11\nepoch : 11.0000, loss : 23.3117, auc : 0.9843, acc : 0.9600, val_loss : 4.4766, val_auc : 0.9075, val_acc : 0.7896, \n---------------------------\n\nstarted training epoch no. 12\nepoch : 12.0000, loss : 19.1264, auc : 0.9888, acc : 0.9651, val_loss : 4.5403, val_auc : 0.9182, val_acc : 0.8317, \n---------------------------\n\nstarted training epoch no. 13\nepoch : 13.0000, loss : 20.3642, auc : 0.9865, acc : 0.9627, val_loss : 5.4148, val_auc : 0.9377, val_acc : 0.8511, \n---------------------------\n\nstarted training epoch no. 14\nepoch : 14.0000, loss : 18.4187, auc : 0.9904, acc : 0.9633, val_loss : 5.3370, val_auc : 0.8701, val_acc : 0.7638, \n---------------------------\n\nstarted training epoch no. 15\nepoch : 15.0000, loss : 21.2733, auc : 0.9869, acc : 0.9604, val_loss : 9.8896, val_auc : 0.9304, val_acc : 0.8414, \n---------------------------\n\nstarted training epoch no. 16\nepoch : 16.0000, loss : 22.1300, auc : 0.9868, acc : 0.9610, val_loss : 4.9634, val_auc : 0.9000, val_acc : 0.8155, \n---------------------------\n\nstarted training epoch no. 17\nepoch : 17.0000, loss : 16.7223, auc : 0.9909, acc : 0.9680, val_loss : 5.0042, val_auc : 0.9271, val_acc : 0.8188, \n---------------------------\n\nstarted training epoch no. 18\nepoch : 18.0000, loss : 21.0967, auc : 0.9860, acc : 0.9593, val_loss : 4.5185, val_auc : 0.9275, val_acc : 0.8350, \n---------------------------\n\nstarted training epoch no. 19\nepoch : 19.0000, loss : 15.0792, auc : 0.9932, acc : 0.9700, val_loss : 6.0382, val_auc : 0.9199, val_acc : 0.8155, \n---------------------------\n\nstarted training epoch no. 20\nepoch : 20.0000, loss : 17.0282, auc : 0.9910, acc : 0.9671, val_loss : 5.4015, val_auc : 0.9199, val_acc : 0.8155, \n---------------------------\n\n"
    }
   ],
   "source": [
    "log = arch_setup.train_epochs(train_loader,val_loader,model,criterion,optimizer,num_epochs= 20,device=device,train_y=train_y,val_y=val_y, WANDB_enable = WANDB_enable, wandb= wandb)"
   ]
  },
  {
   "cell_type": "code",
   "execution_count": null,
   "metadata": {},
   "outputs": [],
   "source": [
    "arch_setup.plot_loss_train_test(log,model)"
   ]
  },
  {
   "cell_type": "code",
   "execution_count": null,
   "metadata": {},
   "outputs": [],
   "source": [
    "arch_setup.plot_ROC_cpu(train_x,val_x,train_y,val_y,model,device)"
   ]
  },
  {
   "cell_type": "code",
   "execution_count": null,
   "metadata": {},
   "outputs": [],
   "source": [
    "arch_setup.plot_ROC_local_gpu(train_loader,val_loader,model,device)"
   ]
  }
 ]
}