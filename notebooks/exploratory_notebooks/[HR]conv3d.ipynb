{
 "metadata": {
  "language_info": {
   "codemirror_mode": {
    "name": "ipython",
    "version": 3
   },
   "file_extension": ".py",
   "mimetype": "text/x-python",
   "name": "python",
   "nbconvert_exporter": "python",
   "pygments_lexer": "ipython3",
   "version": "3.6.10-final"
  },
  "orig_nbformat": 2,
  "kernelspec": {
   "name": "Python 3.6.10 64-bit ('pytorch_latest_p36': conda)",
   "display_name": "Python 3.6.10 64-bit ('pytorch_latest_p36': conda)",
   "metadata": {
    "interpreter": {
     "hash": "4c1e195df8d07db5ee7a78f454b46c3f2e14214bf8c9489d2db5cf8f372ff2ed"
    }
   }
  }
 },
 "nbformat": 4,
 "nbformat_minor": 2,
 "cells": [
  {
   "cell_type": "code",
   "execution_count": 1,
   "metadata": {
    "tags": []
   },
   "outputs": [],
   "source": [
    "%load_ext autoreload\n",
    "%autoreload 2"
   ]
  },
  {
   "cell_type": "code",
   "execution_count": 2,
   "metadata": {},
   "outputs": [],
   "source": [
    "import configparser\n",
    "import os.path\n",
    "from os import path\n",
    "from importlib import reload\n",
    "import wandb\n",
    "\n",
    "#path.join(path.dirname(os.getcwd()), \"credentials.ini\")\n",
    "\n",
    "creds_path_ar = [\"../../credentials.ini\",\"credentials.ini\",\"credentials.colab.ini\"]\n",
    "PATH_ROOT = \"\"\n",
    "PATH_DATA = \"\"\n",
    "\n",
    "for creds_path in creds_path_ar:\n",
    "    if path.exists(creds_path):\n",
    "        config_parser = configparser.ConfigParser()\n",
    "        config_parser.read(creds_path)\n",
    "        PATH_ROOT = config_parser['MAIN'][\"PATH_ROOT\"]\n",
    "        PATH_DATA = config_parser['MAIN'][\"PATH_DATA\"]\n",
    "        WANDB_enable = config_parser['MAIN'][\"WANDB_ENABLE\"] == 'TRUE'\n",
    "        ENV = config_parser['MAIN'][\"ENV\"]\n",
    "        break\n",
    "\n",
    "if ENV==\"COLAB\":\n",
    "  from google.colab import drive\n",
    "  mount_path = '/content/gdrive/'\n",
    "  drive.mount(mount_path)"
   ]
  },
  {
   "cell_type": "code",
   "execution_count": 4,
   "metadata": {
    "tags": []
   },
   "outputs": [
    {
     "output_type": "stream",
     "name": "stderr",
     "text": "Failed to query for notebook name, you can set it manually with the WANDB_NOTEBOOK_NAME environment variable\n\u001b[34m\u001b[1mwandb\u001b[0m: Currently logged in as: \u001b[33msota-mafat\u001b[0m (use `wandb login --relogin` to force relogin)\n\u001b[34m\u001b[1mwandb\u001b[0m: Tracking run with wandb version 0.10.2\n\u001b[34m\u001b[1mwandb\u001b[0m: Run data is saved locally in wandb/run-20200929_102334-25zndzhx\n\u001b[34m\u001b[1mwandb\u001b[0m: Syncing run \u001b[33mdaily-fog-4\u001b[0m\n"
    },
    {
     "output_type": "display_data",
     "data": {
      "text/plain": "<IPython.core.display.HTML object>",
      "text/html": "\n                Logging results to <a href=\"https://wandb.com\" target=\"_blank\">Weights & Biases</a> <a href=\"https://docs.wandb.com/integrations/jupyter.html\" target=\"_blank\">(Documentation)</a>.<br/>\n                Project page: <a href=\"https://wandb.ai/sota-mafat/3dcnn\" target=\"_blank\">https://wandb.ai/sota-mafat/3dcnn</a><br/>\n                Run page: <a href=\"https://wandb.ai/sota-mafat/3dcnn/runs/25zndzhx\" target=\"_blank\">https://wandb.ai/sota-mafat/3dcnn/runs/25zndzhx</a><br/>\n            "
     },
     "metadata": {}
    },
    {
     "output_type": "stream",
     "name": "stdout",
     "text": "\n"
    }
   ],
   "source": [
    "\n",
    "    wandb.init(project=\"3dcnn\")\n",
    "    os.environ['WANDB_NOTEBOOK_NAME'] = '[HR]conv3d'"
   ]
  },
  {
   "cell_type": "code",
   "execution_count": 5,
   "metadata": {
    "tags": []
   },
   "outputs": [
    {
     "output_type": "stream",
     "name": "stdout",
     "text": "/home/ubuntu/sota-mafat-radar\n"
    }
   ],
   "source": [
    "cd {PATH_ROOT}"
   ]
  },
  {
   "cell_type": "code",
   "execution_count": 6,
   "metadata": {},
   "outputs": [],
   "source": [
    "import os\n",
    "import random\n",
    "import pickle\n",
    "import pandas as pd\n",
    "import matplotlib.pyplot as plt\n",
    "import numpy as np\n",
    "\n",
    "import torch\n",
    "import torch.nn as nn\n",
    "import torch.nn.functional as F\n",
    "from torch.utils.data import Dataset, DataLoader\n",
    "import torch.optim as optim\n",
    "\n",
    "\n",
    "from sklearn.metrics import roc_auc_score, roc_curve, auc, accuracy_score\n",
    "from matplotlib.colors import LinearSegmentedColormap\n",
    "from termcolor import colored\n",
    "\n",
    "from src.data import feat_data, get_data, get_data_pipeline\n",
    "from src.models import arch_setup, dataset_ram_reduced, base_base_model, alex_model, base_3d\n",
    "from src.features import specto_feat\n",
    "\n",
    "# Set seed for reproducibility of results\n",
    "seed_value = 0\n",
    "os.environ['PYTHONHASHSEED']=str(seed_value)\n",
    "\n",
    "\n",
    "random.seed(seed_value)\n",
    "np.random.seed(seed_value)\n",
    "torch.manual_seed(0)\n",
    "\n",
    "torch.backends.cudnn.deterministic = True\n",
    "torch.backends.cudnn.benchmark = False\n",
    "\n",
    "if torch.cuda.is_available():\n",
    "    device = torch.device('cuda:0')\n",
    "else:\n",
    "    device = torch.device('cpu:0')"
   ]
  },
  {
   "cell_type": "code",
   "execution_count": 7,
   "metadata": {},
   "outputs": [],
   "source": [
    "config = dict()\n",
    "config['num_tracks'] = 3\n",
    "config['val_ratio'] = 3\n",
    "config['shift_segment'] = [25]\n",
    "config['get_shifts'] = True\n",
    "config['get_horizontal_flip'] = False\n",
    "config['get_vertical_flip'] = False\n",
    "config['wavelets'] = True\n",
    "\n",
    "batch_size = 32\n",
    "lr = 1e-4"
   ]
  },
  {
   "cell_type": "code",
   "execution_count": 9,
   "metadata": {
    "tags": []
   },
   "outputs": [
    {
     "output_type": "stream",
     "name": "stdout",
     "text": "adding auxilary start\nadding auxilary end\nshift:25\n"
    },
    {
     "output_type": "display_data",
     "data": {
      "text/plain": "HBox(children=(FloatProgress(value=0.0, max=1731.0), HTML(value='')))",
      "application/vnd.jupyter.widget-view+json": {
       "version_major": 2,
       "version_minor": 0,
       "model_id": "616c76a2bfa0489298c2f69e174c6cbe"
      }
     },
     "metadata": {}
    },
    {
     "output_type": "stream",
     "name": "stdout",
     "text": "\n"
    }
   ],
   "source": [
    "full_data = get_data_pipeline.pipeline_trainval_ram_reduced(PATH_DATA, config)"
   ]
  },
  {
   "cell_type": "code",
   "execution_count": 10,
   "metadata": {},
   "outputs": [
    {
     "output_type": "execute_result",
     "data": {
      "text/plain": "  segment_id track_id geolocation_type geolocation_id sensor_id snr_type  \\\n0          0       11                C              1         1  HighSNR   \n1          1       16                C              1         1  HighSNR   \n2          2       16                C              1         1  HighSNR   \n3          3       29                C              1         1  HighSNR   \n4          4       29                C              1         1  HighSNR   \n\n  date_index target_type                                      doppler_burst  \\\n0         27      animal  [14, 14, 14, 43, 43, 43, 15, 15, 15, 17, 14, 1...   \n1         27      animal  [123, 123, 123, 5, 5, 6, 5, 9, 4, 4, 4, 4, 4, ...   \n2         27      animal  [122, 122, 122, 122, 123, 120, 120, 117, 119, ...   \n3         27      animal  [75, 75, 75, 55, 32, 31, 33, 36, 30, 31, 31, 2...   \n4         27      animal  [25, 25, 27, 26, 29, 28, 25, 24, 18, 22, 24, 2...   \n\n                                      iq_sweep_burst  is_validation  \\\n0  [[(6900.381244659424+6699.4177532196045j), (21...           True   \n1  [[(-2723.534037590027-36.075279235839844j), (6...          False   \n2  [[(2121.38956451416-1027.161826133728j), (159....          False   \n3  [[(1219.9125831127167-2712.076440811157j), (-7...           True   \n4  [[(-1530.8067255020142-2189.1123847961426j), (...          False   \n\n  augmentation_info  \n0                []  \n1                []  \n2                []  \n3                []  \n4                []  ",
      "text/html": "<div>\n<style scoped>\n    .dataframe tbody tr th:only-of-type {\n        vertical-align: middle;\n    }\n\n    .dataframe tbody tr th {\n        vertical-align: top;\n    }\n\n    .dataframe thead th {\n        text-align: right;\n    }\n</style>\n<table border=\"1\" class=\"dataframe\">\n  <thead>\n    <tr style=\"text-align: right;\">\n      <th></th>\n      <th>segment_id</th>\n      <th>track_id</th>\n      <th>geolocation_type</th>\n      <th>geolocation_id</th>\n      <th>sensor_id</th>\n      <th>snr_type</th>\n      <th>date_index</th>\n      <th>target_type</th>\n      <th>doppler_burst</th>\n      <th>iq_sweep_burst</th>\n      <th>is_validation</th>\n      <th>augmentation_info</th>\n    </tr>\n  </thead>\n  <tbody>\n    <tr>\n      <th>0</th>\n      <td>0</td>\n      <td>11</td>\n      <td>C</td>\n      <td>1</td>\n      <td>1</td>\n      <td>HighSNR</td>\n      <td>27</td>\n      <td>animal</td>\n      <td>[14, 14, 14, 43, 43, 43, 15, 15, 15, 17, 14, 1...</td>\n      <td>[[(6900.381244659424+6699.4177532196045j), (21...</td>\n      <td>True</td>\n      <td>[]</td>\n    </tr>\n    <tr>\n      <th>1</th>\n      <td>1</td>\n      <td>16</td>\n      <td>C</td>\n      <td>1</td>\n      <td>1</td>\n      <td>HighSNR</td>\n      <td>27</td>\n      <td>animal</td>\n      <td>[123, 123, 123, 5, 5, 6, 5, 9, 4, 4, 4, 4, 4, ...</td>\n      <td>[[(-2723.534037590027-36.075279235839844j), (6...</td>\n      <td>False</td>\n      <td>[]</td>\n    </tr>\n    <tr>\n      <th>2</th>\n      <td>2</td>\n      <td>16</td>\n      <td>C</td>\n      <td>1</td>\n      <td>1</td>\n      <td>HighSNR</td>\n      <td>27</td>\n      <td>animal</td>\n      <td>[122, 122, 122, 122, 123, 120, 120, 117, 119, ...</td>\n      <td>[[(2121.38956451416-1027.161826133728j), (159....</td>\n      <td>False</td>\n      <td>[]</td>\n    </tr>\n    <tr>\n      <th>3</th>\n      <td>3</td>\n      <td>29</td>\n      <td>C</td>\n      <td>1</td>\n      <td>1</td>\n      <td>HighSNR</td>\n      <td>27</td>\n      <td>animal</td>\n      <td>[75, 75, 75, 55, 32, 31, 33, 36, 30, 31, 31, 2...</td>\n      <td>[[(1219.9125831127167-2712.076440811157j), (-7...</td>\n      <td>True</td>\n      <td>[]</td>\n    </tr>\n    <tr>\n      <th>4</th>\n      <td>4</td>\n      <td>29</td>\n      <td>C</td>\n      <td>1</td>\n      <td>1</td>\n      <td>HighSNR</td>\n      <td>27</td>\n      <td>animal</td>\n      <td>[25, 25, 27, 26, 29, 28, 25, 24, 18, 22, 24, 2...</td>\n      <td>[[(-1530.8067255020142-2189.1123847961426j), (...</td>\n      <td>False</td>\n      <td>[]</td>\n    </tr>\n  </tbody>\n</table>\n</div>"
     },
     "metadata": {},
     "execution_count": 10
    }
   ],
   "source": [
    "full_data.head()"
   ]
  },
  {
   "cell_type": "code",
   "execution_count": 14,
   "metadata": {
    "tags": []
   },
   "outputs": [
    {
     "output_type": "stream",
     "name": "stdout",
     "text": "10278\n616\n"
    }
   ],
   "source": [
    "train = full_data[full_data.is_validation == False]\n",
    "validation = full_data[full_data.is_validation == True]\n",
    "\n",
    "\n",
    "\n",
    "\n",
    "print(train.shape[0])\n",
    "print(validation.shape[0])"
   ]
  },
  {
   "cell_type": "code",
   "execution_count": 15,
   "metadata": {},
   "outputs": [],
   "source": [
    "from src.models import dataset_ram_reduced\n",
    "train_set = dataset_ram_reduced.DS(train)\n",
    "val_set= dataset_ram_reduced.DS(validation)\n",
    "\n",
    "train_loader=DataLoader(dataset= train_set, batch_size = batch_size, shuffle = True, num_workers = 2)\n",
    "val_loader=DataLoader(dataset= val_set, batch_size = batch_size, shuffle = True, num_workers = 2)"
   ]
  },
  {
   "cell_type": "code",
   "execution_count": 17,
   "metadata": {
    "tags": []
   },
   "outputs": [
    {
     "output_type": "stream",
     "name": "stderr",
     "text": "\u001b[34m\u001b[1mwandb\u001b[0m: Waiting for W&B process to finish, PID 28940\n\u001b[34m\u001b[1mwandb\u001b[0m: Program ended successfully.\n\n\u001b[34m\u001b[1mwandb\u001b[0m:                                                                                \n\u001b[34m\u001b[1mwandb\u001b[0m: Find user logs for this run at: wandb/run-20200929_103342-16n0jjay/logs/debug.log\n\u001b[34m\u001b[1mwandb\u001b[0m: Find internal logs for this run at: wandb/run-20200929_103342-16n0jjay/logs/debug-internal.log\n\u001b[34m\u001b[1mwandb\u001b[0m: Synced 4 W&B file(s), 0 media file(s), 0 artifact file(s) and 0 other file(s)\n\u001b[34m\u001b[1mwandb\u001b[0m: \n\u001b[34m\u001b[1mwandb\u001b[0m: Synced \u001b[33malex3d_take1\u001b[0m: \u001b[34mhttps://wandb.ai/sota-mafat/3dcnn/runs/16n0jjay\u001b[0m\n\u001b[34m\u001b[1mwandb\u001b[0m: Tracking run with wandb version 0.10.2\n\u001b[34m\u001b[1mwandb\u001b[0m: Run data is saved locally in wandb/run-20200929_103422-27ckc03b\n\u001b[34m\u001b[1mwandb\u001b[0m: Syncing run \u001b[33malex3d_1\u001b[0m\n"
    },
    {
     "output_type": "display_data",
     "data": {
      "text/plain": "<IPython.core.display.HTML object>",
      "text/html": "\n                Logging results to <a href=\"https://wandb.com\" target=\"_blank\">Weights & Biases</a> <a href=\"https://docs.wandb.com/integrations/jupyter.html\" target=\"_blank\">(Documentation)</a>.<br/>\n                Project page: <a href=\"https://wandb.ai/sota-mafat/3dcnn\" target=\"_blank\">https://wandb.ai/sota-mafat/3dcnn</a><br/>\n                Run page: <a href=\"https://wandb.ai/sota-mafat/3dcnn/runs/27ckc03b\" target=\"_blank\">https://wandb.ai/sota-mafat/3dcnn/runs/27ckc03b</a><br/>\n            "
     },
     "metadata": {}
    },
    {
     "output_type": "stream",
     "name": "stdout",
     "text": "\n"
    }
   ],
   "source": [
    "model= base_3d.alex_3d()\n",
    "# model.apply(init_weights)\n",
    "criterion = nn.BCELoss()\n",
    "optimizer = optim.Adam(model.parameters(), lr=0.0001)\n",
    "\n",
    "model.to(device)\n",
    "\n",
    "if WANDB_enable == True:\n",
    "    runname = input(\"Enter WANDB runname(ENTER to skip wandb) :\")\n",
    "    notes = input(\"Enter run notes :\")\n",
    "\n",
    "    wandb.init(project=\"3dcnn\",name=runname, notes=notes)\n",
    "    os.environ['WANDB_NOTEBOOK_NAME'] = '[HR]conv3d'\n",
    "    \n",
    "    wandb.watch(model)\n",
    "    wandb.config['data_config'] = config\n",
    "    wandb.config['train_size'] = train.shape[0]\n",
    "    wandb.config['val_size'] = validation.shape[0]\n",
    "    wandb.config['batch_size'] = batch_size\n",
    "    wandb.config['learning rate'] = lr\n",
    "    wandb.log(config)\n"
   ]
  },
  {
   "cell_type": "code",
   "execution_count": 21,
   "metadata": {},
   "outputs": [
    {
     "output_type": "execute_result",
     "data": {
      "text/plain": "<src.models.dataset_ram_reduced.DS at 0x7fe0b852dba8>"
     },
     "metadata": {},
     "execution_count": 21
    }
   ],
   "source": [
    "train_set"
   ]
  },
  {
   "cell_type": "code",
   "execution_count": 20,
   "metadata": {
    "tags": []
   },
   "outputs": [
    {
     "output_type": "error",
     "ename": "TypeError",
     "evalue": "'DataLoader' object does not support indexing",
     "traceback": [
      "\u001b[0;31m---------------------------------------------------------------------------\u001b[0m",
      "\u001b[0;31mTypeError\u001b[0m                                 Traceback (most recent call last)",
      "\u001b[0;32m<ipython-input-20-bfb571b4f096>\u001b[0m in \u001b[0;36m<module>\u001b[0;34m\u001b[0m\n\u001b[0;32m----> 1\u001b[0;31m \u001b[0mlog\u001b[0m \u001b[0;34m=\u001b[0m \u001b[0march_setup\u001b[0m\u001b[0;34m.\u001b[0m\u001b[0mtrain_epochs\u001b[0m\u001b[0;34m(\u001b[0m\u001b[0mtrain_loader\u001b[0m\u001b[0;34m[\u001b[0m\u001b[0;36m0\u001b[0m\u001b[0;34m]\u001b[0m\u001b[0;34m,\u001b[0m\u001b[0mval_loader\u001b[0m\u001b[0;34m[\u001b[0m\u001b[0;36m0\u001b[0m\u001b[0;34m]\u001b[0m\u001b[0;34m,\u001b[0m\u001b[0mmodel\u001b[0m\u001b[0;34m,\u001b[0m\u001b[0mcriterion\u001b[0m\u001b[0;34m,\u001b[0m\u001b[0moptimizer\u001b[0m\u001b[0;34m,\u001b[0m\u001b[0mnum_epochs\u001b[0m\u001b[0;34m=\u001b[0m \u001b[0;36m10\u001b[0m\u001b[0;34m,\u001b[0m\u001b[0mdevice\u001b[0m\u001b[0;34m=\u001b[0m\u001b[0mdevice\u001b[0m\u001b[0;34m,\u001b[0m\u001b[0mtrain_y\u001b[0m\u001b[0;34m=\u001b[0m\u001b[0mval_loader\u001b[0m\u001b[0;34m[\u001b[0m\u001b[0;36m1\u001b[0m\u001b[0;34m]\u001b[0m\u001b[0;34m,\u001b[0m\u001b[0mval_y\u001b[0m\u001b[0;34m=\u001b[0m\u001b[0mtrain_loader\u001b[0m\u001b[0;34m[\u001b[0m\u001b[0;36m1\u001b[0m\u001b[0;34m]\u001b[0m\u001b[0;34m,\u001b[0m \u001b[0mWANDB_enable\u001b[0m \u001b[0;34m=\u001b[0m \u001b[0mWANDB_enable\u001b[0m\u001b[0;34m,\u001b[0m \u001b[0mwandb\u001b[0m\u001b[0;34m=\u001b[0m \u001b[0mwandb\u001b[0m\u001b[0;34m)\u001b[0m\u001b[0;34m\u001b[0m\u001b[0;34m\u001b[0m\u001b[0m\n\u001b[0m",
      "\u001b[0;31mTypeError\u001b[0m: 'DataLoader' object does not support indexing"
     ]
    }
   ],
   "source": [
    "log = arch_setup.train_epochs(train_loader,val_loader,model,criterion,optimizer,num_epochs= 10,device=device,train_y=train_y,val_y=val_y, WANDB_enable = WANDB_enable, wandb= wandb)"
   ]
  },
  {
   "cell_type": "code",
   "execution_count": null,
   "metadata": {},
   "outputs": [],
   "source": [
    "arch_setup.plot_loss_train_test(log,model)"
   ]
  },
  {
   "cell_type": "code",
   "execution_count": null,
   "metadata": {},
   "outputs": [],
   "source": [
    "arch_setup.plot_ROC_local_gpu(train_loader,val_loader,model,device)"
   ]
  },
  {
   "cell_type": "code",
   "execution_count": 31,
   "metadata": {},
   "outputs": [
    {
     "output_type": "execute_result",
     "data": {
      "text/plain": "<module 'src.models.arch_setup' from '/home/ubuntu/sota-mafat-radar/src/models/arch_setup.py'>"
     },
     "metadata": {},
     "execution_count": 31
    }
   ],
   "source": [
    "importlib.reload(arch_setup)"
   ]
  },
  {
   "cell_type": "code",
   "execution_count": null,
   "metadata": {},
   "outputs": [],
   "source": []
  }
 ]
}