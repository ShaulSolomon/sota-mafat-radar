{
 "cells": [
  {
   "cell_type": "code",
   "execution_count": null,
   "metadata": {
    "tags": []
   },
   "outputs": [],
   "source": [
    "%load_ext autoreload\n",
    "%autoreload 2"
   ]
  },
  {
   "cell_type": "code",
   "execution_count": null,
   "metadata": {},
   "outputs": [],
   "source": [
    "import configparser\n",
    "import os.path\n",
    "from os import path\n",
    "from importlib import reload\n",
    "import wandb\n",
    "\n",
    "\n",
    "creds_path_ar = [\"../../credentials.ini\",\"credentials.colab.ini\"]\n",
    "PATH_ROOT = \"\"\n",
    "PATH_DATA = \"\"\n",
    "\n",
    "for creds_path in creds_path_ar:\n",
    "    if path.exists(creds_path):\n",
    "        config_parser = configparser.ConfigParser()\n",
    "        config_parser.read(creds_path)\n",
    "        PATH_ROOT = config_parser['MAIN'][\"PATH_ROOT\"]\n",
    "        PATH_DATA = config_parser['MAIN'][\"PATH_DATA\"]\n",
    "        WANDB_enable = config_parser['MAIN'][\"WANDB_ENABLE\"] == 'TRUE'\n",
    "        ENV = config_parser['MAIN'][\"ENV\"]\n",
    "        break\n",
    "\n",
    "if ENV==\"COLAB\":\n",
    "  from google.colab import drive\n",
    "  mount_path = '/content/gdrive/'\n",
    "  drive.mount(mount_path)"
   ]
  },
  {
   "cell_type": "code",
   "execution_count": null,
   "metadata": {
    "tags": []
   },
   "outputs": [],
   "source": [
    "cd {PATH_ROOT}"
   ]
  },
  {
   "cell_type": "code",
   "execution_count": null,
   "metadata": {
    "tags": []
   },
   "outputs": [],
   "source": [
    "pip install numpy==1.18.5"
   ]
  },
  {
   "cell_type": "code",
   "execution_count": null,
   "metadata": {
    "execution": {
     "iopub.execute_input": "2020-08-17T13:21:54.692964Z",
     "iopub.status.busy": "2020-08-17T13:21:54.692703Z",
     "iopub.status.idle": "2020-08-17T13:22:03.867253Z",
     "shell.execute_reply": "2020-08-17T13:22:03.866413Z",
     "shell.execute_reply.started": "2020-08-17T13:21:54.692929Z"
    },
    "tags": []
   },
   "outputs": [],
   "source": [
    "import os\n",
    "import pandas as pd\n",
    "import numpy as np\n",
    "from termcolor import colored\n",
    "import tensorflow as tf\n",
    "from tensorflow.keras import layers\n",
    "import matplotlib.pyplot as plt"
   ]
  },
  {
   "cell_type": "code",
   "execution_count": null,
   "metadata": {},
   "outputs": [],
   "source": [
    "from src.data import get_data, feat_data\n",
    "from src.visualization import *\n",
    "from src.features import add_data, augmentations, specto_feat\n",
    "from src.models import *"
   ]
  },
  {
   "cell_type": "code",
   "execution_count": null,
   "metadata": {
    "execution": {
     "iopub.execute_input": "2020-08-17T13:22:03.871592Z",
     "iopub.status.busy": "2020-08-17T13:22:03.870576Z",
     "iopub.status.idle": "2020-08-17T13:22:05.355924Z",
     "shell.execute_reply": "2020-08-17T13:22:05.353358Z",
     "shell.execute_reply.started": "2020-08-17T13:22:03.871543Z"
    }
   },
   "outputs": [],
   "source": [
    "train_path = 'MAFAT RADAR Challenge - Training Set V1'\n",
    "data = get_data.load_data(train_path, folder=PATH_DATA)"
   ]
  },
  {
   "cell_type": "code",
   "execution_count": null,
   "metadata": {
    "execution": {
     "iopub.execute_input": "2020-08-17T13:22:05.420053Z",
     "iopub.status.busy": "2020-08-17T13:22:05.419417Z",
     "iopub.status.idle": "2020-08-17T13:22:05.557167Z",
     "shell.execute_reply": "2020-08-17T13:22:05.555225Z",
     "shell.execute_reply.started": "2020-08-17T13:22:05.420024Z"
    }
   },
   "outputs": [],
   "source": [
    "data.keys()"
   ]
  },
  {
   "cell_type": "code",
   "execution_count": null,
   "metadata": {
    "execution": {
     "iopub.execute_input": "2020-08-17T13:22:05.567388Z",
     "iopub.status.busy": "2020-08-17T13:22:05.566945Z",
     "iopub.status.idle": "2020-08-17T13:22:05.803705Z",
     "shell.execute_reply": "2020-08-17T13:22:05.802495Z",
     "shell.execute_reply.started": "2020-08-17T13:22:05.567357Z"
    }
   },
   "outputs": [],
   "source": [
    "segment_id = 0\n",
    "track_id = data['track_id'][segment_id]\n",
    "iq = data['iq_sweep_burst'][segment_id]\n",
    "track, _ = add_data.concatenate_track(data, track_id)\n",
    "doppler = data['doppler_burst'][segment_id]\n",
    "label = data['target_type'][segment_id]\n",
    "angle = 10"
   ]
  },
  {
   "cell_type": "markdown",
   "metadata": {},
   "source": [
    "## Homegrown Augmentations"
   ]
  },
  {
   "cell_type": "code",
   "execution_count": null,
   "metadata": {
    "execution": {
     "iopub.execute_input": "2020-08-17T13:22:05.817645Z",
     "iopub.status.busy": "2020-08-17T13:22:05.815809Z",
     "iopub.status.idle": "2020-08-17T13:22:05.921911Z",
     "shell.execute_reply": "2020-08-17T13:22:05.921098Z",
     "shell.execute_reply.started": "2020-08-17T13:22:05.817595Z"
    },
    "tags": []
   },
   "outputs": [],
   "source": [
    "new_segments = augmentations.split_rotation(data, track_id, angle=angle, n_splits=4)"
   ]
  },
  {
   "cell_type": "code",
   "execution_count": null,
   "metadata": {
    "execution": {
     "iopub.execute_input": "2020-08-17T13:22:05.930583Z",
     "iopub.status.busy": "2020-08-17T13:22:05.929683Z",
     "iopub.status.idle": "2020-08-17T13:22:07.000553Z",
     "shell.execute_reply": "2020-08-17T13:22:06.999458Z",
     "shell.execute_reply.started": "2020-08-17T13:22:05.930535Z"
    }
   },
   "outputs": [],
   "source": [
    "plt.figure(figsize=(10, 10))\n",
    "for i, augmented_image in enumerate(new_segments.values()):\n",
    "    ax = plt.subplot(3, 4, i + 1)\n",
    "    plt.imshow(augmented_image)\n",
    "    plt.axis(\"off\")"
   ]
  },
  {
   "cell_type": "code",
   "execution_count": null,
   "metadata": {
    "execution": {
     "iopub.execute_input": "2020-08-17T13:22:16.174391Z",
     "iopub.status.busy": "2020-08-17T13:22:16.173837Z",
     "iopub.status.idle": "2020-08-17T13:22:16.227424Z",
     "shell.execute_reply": "2020-08-17T13:22:16.226512Z",
     "shell.execute_reply.started": "2020-08-17T13:22:16.174355Z"
    }
   },
   "outputs": [],
   "source": [
    "augmented_image.shape"
   ]
  },
  {
   "cell_type": "markdown",
   "metadata": {},
   "source": [
    "## Keras Augmentation"
   ]
  },
  {
   "cell_type": "code",
   "execution_count": null,
   "metadata": {
    "execution": {
     "iopub.execute_input": "2020-08-17T13:22:16.857056Z",
     "iopub.status.busy": "2020-08-17T13:22:16.856767Z",
     "iopub.status.idle": "2020-08-17T13:22:16.942451Z",
     "shell.execute_reply": "2020-08-17T13:22:16.940351Z",
     "shell.execute_reply.started": "2020-08-17T13:22:16.857031Z"
    },
    "tags": []
   },
   "outputs": [],
   "source": [
    "image = specto_feat.calculate_spectrogram(iq)\n",
    "image = tf.expand_dims(image, -1)"
   ]
  },
  {
   "cell_type": "code",
   "execution_count": null,
   "metadata": {
    "execution": {
     "iopub.execute_input": "2020-08-17T13:22:17.229292Z",
     "iopub.status.busy": "2020-08-17T13:22:17.228723Z",
     "iopub.status.idle": "2020-08-17T13:22:17.308741Z",
     "shell.execute_reply": "2020-08-17T13:22:17.306654Z",
     "shell.execute_reply.started": "2020-08-17T13:22:17.229258Z"
    }
   },
   "outputs": [],
   "source": [
    "IMG_SIZE = 180\n",
    "\n",
    "resize_and_rescale = tf.keras.Sequential([\n",
    "  layers.experimental.preprocessing.Resizing(IMG_SIZE, IMG_SIZE),\n",
    "#   layers.experimental.preprocessing.Rescaling(1./255)\n",
    "])"
   ]
  },
  {
   "cell_type": "code",
   "execution_count": null,
   "metadata": {
    "execution": {
     "iopub.execute_input": "2020-08-17T13:22:17.481993Z",
     "iopub.status.busy": "2020-08-17T13:22:17.481481Z",
     "iopub.status.idle": "2020-08-17T13:22:18.278576Z",
     "shell.execute_reply": "2020-08-17T13:22:18.276220Z",
     "shell.execute_reply.started": "2020-08-17T13:22:17.481958Z"
    },
    "tags": []
   },
   "outputs": [],
   "source": [
    "result = resize_and_rescale(image)\n",
    "_ = plt.imshow(result)"
   ]
  },
  {
   "cell_type": "code",
   "execution_count": null,
   "metadata": {
    "execution": {
     "iopub.execute_input": "2020-08-17T13:22:18.296034Z",
     "iopub.status.busy": "2020-08-17T13:22:18.295606Z",
     "iopub.status.idle": "2020-08-17T13:22:18.415704Z",
     "shell.execute_reply": "2020-08-17T13:22:18.414825Z",
     "shell.execute_reply.started": "2020-08-17T13:22:18.296004Z"
    }
   },
   "outputs": [],
   "source": [
    "image = tf.expand_dims(result, 0)"
   ]
  },
  {
   "cell_type": "code",
   "execution_count": null,
   "metadata": {
    "execution": {
     "iopub.execute_input": "2020-08-17T13:22:19.117637Z",
     "iopub.status.busy": "2020-08-17T13:22:19.117400Z",
     "iopub.status.idle": "2020-08-17T13:22:19.191657Z",
     "shell.execute_reply": "2020-08-17T13:22:19.184271Z",
     "shell.execute_reply.started": "2020-08-17T13:22:19.117613Z"
    }
   },
   "outputs": [],
   "source": [
    "data_augmentation = tf.keras.Sequential([\n",
    "#   layers.experimental.preprocessing.RandomFlip(\"horizontal_and_vertical\"),\n",
    "  layers.experimental.preprocessing.RandomRotation(0.2),\n",
    "])"
   ]
  },
  {
   "cell_type": "code",
   "execution_count": null,
   "metadata": {
    "execution": {
     "iopub.execute_input": "2020-08-17T13:22:19.966606Z",
     "iopub.status.busy": "2020-08-17T13:22:19.966377Z",
     "iopub.status.idle": "2020-08-17T13:22:20.682074Z",
     "shell.execute_reply": "2020-08-17T13:22:20.681217Z",
     "shell.execute_reply.started": "2020-08-17T13:22:19.966582Z"
    }
   },
   "outputs": [],
   "source": [
    "plt.figure(figsize=(10, 10))\n",
    "for i in range(3):\n",
    "    augmented_image = data_augmentation(image)\n",
    "    ax = plt.subplot(3, 3, i + 1)\n",
    "    plt.imshow(augmented_image[0])\n",
    "    plt.axis(\"off\")"
   ]
  }
 ],
 "metadata": {
  "kernelspec": {
   "display_name": "Python 3.6.9 64-bit ('venv_mafat': venv)",
   "language": "python",
   "name": "python36964bitvenvmafatvenv300c218a63dc4f9ea0765cbe246bbed9"
  },
  "language_info": {
   "codemirror_mode": {
    "name": "ipython",
    "version": 3
   },
   "file_extension": ".py",
   "mimetype": "text/x-python",
   "name": "python",
   "nbconvert_exporter": "python",
   "pygments_lexer": "ipython3",
   "version": "3.6.9-final"
  }
 },
 "nbformat": 4,
 "nbformat_minor": 4
}