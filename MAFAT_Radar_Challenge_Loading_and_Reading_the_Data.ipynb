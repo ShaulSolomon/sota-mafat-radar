{
  "nbformat": 4,
  "nbformat_minor": 0,
  "metadata": {
    "colab": {
      "name": "MAFAT Radar Challenge - Loading and Reading the Data.ipynb",
      "provenance": [],
      "collapsed_sections": [],
      "toc_visible": true
    },
    "kernelspec": {
      "name": "python3",
      "display_name": "Python 3"
    }
  },
  "cells": [
    {
      "cell_type": "markdown",
      "metadata": {
        "id": "EaHco-kd_Hmt",
        "colab_type": "text"
      },
      "source": [
        "#**MAFAT Radar Challenge - Loading and Reading the Data**\n",
        "\n",
        "This notebook presents:\n",
        "1. How to load the data.   \n",
        "2. How to transform the Data into a Matlab file.\n",
        "\n",
        "[Competition website](https://competitions.codalab.org/competitions/25389)   \n",
        "[MAFAT Challenge homepage](https://mafatchallenge.mod.gov.il/)"
      ]
    },
    {
      "cell_type": "markdown",
      "metadata": {
        "id": "cVFEt-Zk91iv",
        "colab_type": "text"
      },
      "source": [
        "*To load the data from Google Drive the data must be first uploaded to  Google Drive.*"
      ]
    },
    {
      "cell_type": "code",
      "metadata": {
        "id": "sAHA4tmhz7zS",
        "colab_type": "code",
        "colab": {}
      },
      "source": [
        "import pickle\n",
        "import os\n",
        "import pandas as pd\n",
        "import numpy as np\n",
        "\n",
        "from termcolor import colored"
      ],
      "execution_count": null,
      "outputs": []
    },
    {
      "cell_type": "code",
      "metadata": {
        "id": "43agNdklvnNc",
        "colab_type": "code",
        "colab": {
          "base_uri": "https://localhost:8080/",
          "height": 124
        },
        "outputId": "697773ae-2d69-41fb-aa00-0c7b48c110b2"
      },
      "source": [
        "from google.colab import drive\n",
        "mount_path = '/content/gdrive'\n",
        "drive.mount(mount_path)"
      ],
      "execution_count": null,
      "outputs": [
        {
          "output_type": "stream",
          "text": [
            "Go to this URL in a browser: https://accounts.google.com/o/oauth2/auth?client_id=947318989803-6bn6qk8qdgf4n4g3pfee6491hc0brc4i.apps.googleusercontent.com&redirect_uri=urn%3aietf%3awg%3aoauth%3a2.0%3aoob&response_type=code&scope=email%20https%3a%2f%2fwww.googleapis.com%2fauth%2fdocs.test%20https%3a%2f%2fwww.googleapis.com%2fauth%2fdrive%20https%3a%2f%2fwww.googleapis.com%2fauth%2fdrive.photos.readonly%20https%3a%2f%2fwww.googleapis.com%2fauth%2fpeopleapi.readonly\n",
            "\n",
            "Enter your authorization code:\n",
            "··········\n",
            "Mounted at /content/gdrive\n"
          ],
          "name": "stdout"
        }
      ]
    },
    {
      "cell_type": "code",
      "metadata": {
        "id": "5qT5uObShNSw",
        "colab_type": "code",
        "colab": {
          "base_uri": "https://localhost:8080/",
          "height": 69
        },
        "outputId": "522b3fb8-76e0-473b-e23c-68966c318e04"
      },
      "source": [
        "# Set and test path to competition data files\n",
        "competition_path = 'INSERT HERE'\n",
        "try:\n",
        "  if competition_path == 'INSERT HERE':\n",
        "    print('Please enter path to competition data files:')\n",
        "    competition_path = input()\n",
        "  file_path = 'MAFAT RADAR Challenge - Training Set V1.csv'\n",
        "  with open(f'{mount_path}/{competition_path}/{file_path}') as f:\n",
        "    f.readlines()\n",
        "  print(colored('Everything is setup correctly', color='green'))\n",
        "except:\n",
        "  print(colored('Please mount drive and set competition_path correctly',\n",
        "                color='red'))"
      ],
      "execution_count": null,
      "outputs": [
        {
          "output_type": "stream",
          "text": [
            "Please enter path to competition data files:\n",
            "My Drive/MAFAT Radar Challenge - Can you distinguish between humans and animals in radar tracks?/Data\n",
            "\u001b[32mEverything is setup correctly\u001b[0m\n"
          ],
          "name": "stdout"
        }
      ]
    },
    {
      "cell_type": "code",
      "metadata": {
        "id": "U8mGshsyz9Y3",
        "colab_type": "code",
        "colab": {}
      },
      "source": [
        "def load_data(file_path):\n",
        "  \"\"\"\n",
        "  Reads all data files (metadata and signal matrix data) as python dictionary,\n",
        "  the pkl and csv files must have the same file name.\n",
        "\n",
        "  Arguments:\n",
        "    file_path -- {str} -- path to the iq_matrix file and metadata file\n",
        "\n",
        "  Returns:\n",
        "    Python dictionary\n",
        "  \"\"\"\n",
        "  pkl = load_pkl_data(file_path)\n",
        "  meta = load_csv_metadata(file_path)\n",
        "  data_dictionary = {**meta, **pkl}\n",
        "  \n",
        "  for key in data_dictionary.keys():\n",
        "    data_dictionary[key] = np.array(data_dictionary[key])\n",
        "\n",
        "  return data_dictionary\n",
        "\n",
        "\n",
        "def load_pkl_data(file_path):\n",
        "  \"\"\"\n",
        "  Reads pickle file as a python dictionary (only Signal data).\n",
        "\n",
        "  Arguments:\n",
        "    file_path -- {str} -- path to pickle iq_matrix file\n",
        "\n",
        "  Returns:\n",
        "    Python dictionary\n",
        "  \"\"\"\n",
        "  path = os.path.join(mount_path, competition_path, file_path + '.pkl')\n",
        "  with open(path, 'rb') as data:\n",
        "    output = pickle.load(data)\n",
        "  return output\n",
        "\n",
        "\n",
        "def load_csv_metadata(file_path):\n",
        "  \"\"\"\n",
        "  Reads csv as pandas DataFrame (only Metadata).\n",
        "\n",
        "  Arguments:\n",
        "    file_path -- {str} -- path to csv metadata file\n",
        "\n",
        "  Returns:\n",
        "    Pandas DataFarme\n",
        "  \"\"\"\n",
        "  path = os.path.join(mount_path, competition_path, file_path + '.csv')\n",
        "  with open(path, 'rb') as data:\n",
        "    output = pd.read_csv(data)\n",
        "  return output"
      ],
      "execution_count": null,
      "outputs": []
    },
    {
      "cell_type": "markdown",
      "metadata": {
        "id": "DizROa_3-Chb",
        "colab_type": "text"
      },
      "source": [
        "Below an example for loading all the training data and the public test data (signal + metadata).   \n",
        "It is possible to load only the csv metadata file or the signal pkl file by using the    \n",
        "\"load_csv_metadata()\" function or \"load_pkl_data()\" function."
      ]
    },
    {
      "cell_type": "code",
      "metadata": {
        "id": "slBkXo2_h8pX",
        "colab_type": "code",
        "colab": {}
      },
      "source": [
        "train_path = 'MAFAT RADAR Challenge - Training Set V1'\n",
        "test_path = 'MAFAT RADAR Challenge - Public Test Set V1'\n",
        "\n",
        "training = load_data(train_path)\n",
        "test = load_data(test_path)"
      ],
      "execution_count": null,
      "outputs": []
    },
    {
      "cell_type": "markdown",
      "metadata": {
        "id": "v18_AAlc-QCn",
        "colab_type": "text"
      },
      "source": [
        "After the loading is finished the data is stored as a simple python dictionary.   \n",
        "   \n",
        "For more information on the data fields please go to the [competition website](https://competitions.codalab.org/competitions/25389)   \n",
        " or read the [descriptive statistics](https://colab.research.google.com/drive/11Lzihg2vKIbo4KAIIJxW5CRZIncoWgtL?usp=sharing) notebook. \n",
        "\n",
        "\n"
      ]
    },
    {
      "cell_type": "code",
      "metadata": {
        "id": "3IjPRtSM8UYY",
        "colab_type": "code",
        "colab": {
          "base_uri": "https://localhost:8080/",
          "height": 187
        },
        "outputId": "0986a232-6133-4477-bbaa-3899a4924ebb"
      },
      "source": [
        "list(training.keys())"
      ],
      "execution_count": null,
      "outputs": [
        {
          "output_type": "execute_result",
          "data": {
            "text/plain": [
              "['segment_id',\n",
              " 'track_id',\n",
              " 'geolocation_type',\n",
              " 'geolocation_id',\n",
              " 'sensor_id',\n",
              " 'snr_type',\n",
              " 'date_index',\n",
              " 'target_type',\n",
              " 'doppler_burst',\n",
              " 'iq_sweep_burst']"
            ]
          },
          "metadata": {
            "tags": []
          },
          "execution_count": 6
        }
      ]
    },
    {
      "cell_type": "code",
      "metadata": {
        "id": "_KZvkKzG83oZ",
        "colab_type": "code",
        "colab": {
          "base_uri": "https://localhost:8080/",
          "height": 34
        },
        "outputId": "ba4fdbd7-5e68-481c-ef0e-6605ef497d48"
      },
      "source": [
        "list(test.keys())"
      ],
      "execution_count": null,
      "outputs": [
        {
          "output_type": "execute_result",
          "data": {
            "text/plain": [
              "['segment_id', 'snr_type', 'doppler_burst', 'iq_sweep_burst']"
            ]
          },
          "metadata": {
            "tags": []
          },
          "execution_count": 7
        }
      ]
    },
    {
      "cell_type": "markdown",
      "metadata": {
        "id": "GJ_I6aor1I5M",
        "colab_type": "text"
      },
      "source": [
        "##Convert into MATLAB\n",
        "*This step is optional and useful for participants who want to use MATLAB to create model development.*\n",
        "\n",
        "After loading the data it is possible to transform it into a mat file for MATLAB"
      ]
    },
    {
      "cell_type": "code",
      "metadata": {
        "id": "jHN0giXZ1eXr",
        "colab_type": "code",
        "colab": {}
      },
      "source": [
        "from scipy.io import savemat  # Only for participants who wish to work on MATLAB\n",
        "\n",
        "# Define the path for saving the *.mat file\n",
        "training_mat_path = os.path.join(mount_path, competition_path, \n",
        "                                 train_path + '.mat')\n",
        "test_mat_path = os.path.join(mount_path, competition_path, \n",
        "                             test_path + '.mat')\n",
        "\n",
        "# savemat receives two arguments: saving path and dictionary \n",
        "savemat(training_mat_path, training)\n",
        "savemat(test_mat_path, test)"
      ],
      "execution_count": null,
      "outputs": []
    },
    {
      "cell_type": "code",
      "metadata": {
        "id": "tnNAqJG4b_Vb",
        "colab_type": "code",
        "colab": {}
      },
      "source": [
        "# Download the mat files\n",
        "from google.colab import files\n",
        "files.download(training_mat_path)\n",
        "files.download(test_mat_path)"
      ],
      "execution_count": null,
      "outputs": []
    }
  ]
}